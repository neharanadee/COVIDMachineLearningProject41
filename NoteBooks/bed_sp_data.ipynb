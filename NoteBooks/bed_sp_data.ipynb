{
  "nbformat": 4,
  "nbformat_minor": 0,
  "metadata": {
    "colab": {
      "name": "bed_sp_data.ipynb",
      "provenance": []
    },
    "kernelspec": {
      "name": "python3",
      "display_name": "Python 3"
    }
  },
  "cells": [
    {
      "cell_type": "code",
      "metadata": {
        "id": "tW-uRZX7JGlF",
        "colab_type": "code",
        "colab": {}
      },
      "source": [
        "#import the needed libraries\n",
        "import pandas as pd\n",
        "import numpy as np\n",
        "import seaborn as sns\n",
        "import matplotlib.pyplot as plt"
      ],
      "execution_count": null,
      "outputs": []
    },
    {
      "cell_type": "code",
      "metadata": {
        "id": "ex9H-V9CJ1qf",
        "colab_type": "code",
        "colab": {}
      },
      "source": [
        "df = pd.read_csv('UsaHospitalBeds.csv')\n",
        "dd = pd.read_csv('us_counties.csv')"
      ],
      "execution_count": null,
      "outputs": []
    },
    {
      "cell_type": "code",
      "metadata": {
        "id": "F62wov1gKCmB",
        "colab_type": "code",
        "colab": {
          "base_uri": "https://localhost:8080/",
          "height": 435
        },
        "outputId": "909872f8-d67c-4ba0-ac29-1bf8e9378952"
      },
      "source": [
        "df.head(5)"
      ],
      "execution_count": null,
      "outputs": [
        {
          "output_type": "execute_result",
          "data": {
            "text/html": [
              "<div>\n",
              "<style scoped>\n",
              "    .dataframe tbody tr th:only-of-type {\n",
              "        vertical-align: middle;\n",
              "    }\n",
              "\n",
              "    .dataframe tbody tr th {\n",
              "        vertical-align: top;\n",
              "    }\n",
              "\n",
              "    .dataframe thead th {\n",
              "        text-align: right;\n",
              "    }\n",
              "</style>\n",
              "<table border=\"1\" class=\"dataframe\">\n",
              "  <thead>\n",
              "    <tr style=\"text-align: right;\">\n",
              "      <th></th>\n",
              "      <th>X</th>\n",
              "      <th>Y</th>\n",
              "      <th>OBJECTID</th>\n",
              "      <th>HOSPITAL_NAME</th>\n",
              "      <th>HOSPITAL_TYPE</th>\n",
              "      <th>HQ_ADDRESS</th>\n",
              "      <th>HQ_ADDRESS1</th>\n",
              "      <th>HQ_CITY</th>\n",
              "      <th>HQ_STATE</th>\n",
              "      <th>HQ_ZIP_CODE</th>\n",
              "      <th>COUNTY_NAME</th>\n",
              "      <th>STATE_NAME</th>\n",
              "      <th>STATE_FIPS</th>\n",
              "      <th>CNTY_FIPS</th>\n",
              "      <th>FIPS</th>\n",
              "      <th>NUM_LICENSED_BEDS</th>\n",
              "      <th>NUM_STAFFED_BEDS</th>\n",
              "      <th>NUM_ICU_BEDS</th>\n",
              "      <th>ADULT_ICU_BEDS</th>\n",
              "      <th>PEDI_ICU_BEDS</th>\n",
              "      <th>BED_UTILIZATION</th>\n",
              "      <th>Potential_Increase_In_Bed_Capac</th>\n",
              "      <th>AVG_VENTILATOR_USAGE</th>\n",
              "    </tr>\n",
              "  </thead>\n",
              "  <tbody>\n",
              "    <tr>\n",
              "      <th>0</th>\n",
              "      <td>-112.066157</td>\n",
              "      <td>33.495498</td>\n",
              "      <td>1</td>\n",
              "      <td>Phoenix VA Health Care System (AKA Carl T Hayd...</td>\n",
              "      <td>VA Hospital</td>\n",
              "      <td>650 E Indian School Rd</td>\n",
              "      <td>NaN</td>\n",
              "      <td>Phoenix</td>\n",
              "      <td>AZ</td>\n",
              "      <td>85012</td>\n",
              "      <td>Maricopa</td>\n",
              "      <td>Arizona</td>\n",
              "      <td>4.0</td>\n",
              "      <td>13.0</td>\n",
              "      <td>4013.0</td>\n",
              "      <td>62.0</td>\n",
              "      <td>62.0</td>\n",
              "      <td>0</td>\n",
              "      <td>0</td>\n",
              "      <td>NaN</td>\n",
              "      <td>NaN</td>\n",
              "      <td>0</td>\n",
              "      <td>0.0</td>\n",
              "    </tr>\n",
              "    <tr>\n",
              "      <th>1</th>\n",
              "      <td>-110.965885</td>\n",
              "      <td>32.181263</td>\n",
              "      <td>2</td>\n",
              "      <td>Southern Arizona VA Health Care System</td>\n",
              "      <td>VA Hospital</td>\n",
              "      <td>3601 S 6th Ave</td>\n",
              "      <td>NaN</td>\n",
              "      <td>Tucson</td>\n",
              "      <td>AZ</td>\n",
              "      <td>85723</td>\n",
              "      <td>Pima</td>\n",
              "      <td>Arizona</td>\n",
              "      <td>4.0</td>\n",
              "      <td>19.0</td>\n",
              "      <td>4019.0</td>\n",
              "      <td>295.0</td>\n",
              "      <td>295.0</td>\n",
              "      <td>2</td>\n",
              "      <td>2</td>\n",
              "      <td>NaN</td>\n",
              "      <td>NaN</td>\n",
              "      <td>0</td>\n",
              "      <td>2.0</td>\n",
              "    </tr>\n",
              "    <tr>\n",
              "      <th>2</th>\n",
              "      <td>-119.779742</td>\n",
              "      <td>36.773323</td>\n",
              "      <td>3</td>\n",
              "      <td>VA Central California Health Care System</td>\n",
              "      <td>VA Hospital</td>\n",
              "      <td>2615 E Clinton Ave</td>\n",
              "      <td>NaN</td>\n",
              "      <td>Fresno</td>\n",
              "      <td>CA</td>\n",
              "      <td>93703</td>\n",
              "      <td>Fresno</td>\n",
              "      <td>California</td>\n",
              "      <td>6.0</td>\n",
              "      <td>19.0</td>\n",
              "      <td>6019.0</td>\n",
              "      <td>54.0</td>\n",
              "      <td>54.0</td>\n",
              "      <td>2</td>\n",
              "      <td>2</td>\n",
              "      <td>NaN</td>\n",
              "      <td>NaN</td>\n",
              "      <td>0</td>\n",
              "      <td>2.0</td>\n",
              "    </tr>\n",
              "    <tr>\n",
              "      <th>3</th>\n",
              "      <td>-72.957610</td>\n",
              "      <td>41.284400</td>\n",
              "      <td>4</td>\n",
              "      <td>VA Connecticut Healthcare System - West Haven ...</td>\n",
              "      <td>VA Hospital</td>\n",
              "      <td>950 Campbell Ave</td>\n",
              "      <td>NaN</td>\n",
              "      <td>West Haven</td>\n",
              "      <td>CT</td>\n",
              "      <td>6516</td>\n",
              "      <td>New Haven</td>\n",
              "      <td>Connecticut</td>\n",
              "      <td>9.0</td>\n",
              "      <td>9.0</td>\n",
              "      <td>9009.0</td>\n",
              "      <td>216.0</td>\n",
              "      <td>216.0</td>\n",
              "      <td>1</td>\n",
              "      <td>1</td>\n",
              "      <td>NaN</td>\n",
              "      <td>NaN</td>\n",
              "      <td>0</td>\n",
              "      <td>2.0</td>\n",
              "    </tr>\n",
              "    <tr>\n",
              "      <th>4</th>\n",
              "      <td>-75.606533</td>\n",
              "      <td>39.740206</td>\n",
              "      <td>5</td>\n",
              "      <td>Wilmington VA Medical Center</td>\n",
              "      <td>VA Hospital</td>\n",
              "      <td>1601 Kirkwood Hwy</td>\n",
              "      <td>NaN</td>\n",
              "      <td>Wilmington</td>\n",
              "      <td>DE</td>\n",
              "      <td>19805</td>\n",
              "      <td>New Castle</td>\n",
              "      <td>Delaware</td>\n",
              "      <td>10.0</td>\n",
              "      <td>3.0</td>\n",
              "      <td>10003.0</td>\n",
              "      <td>62.0</td>\n",
              "      <td>62.0</td>\n",
              "      <td>0</td>\n",
              "      <td>0</td>\n",
              "      <td>NaN</td>\n",
              "      <td>NaN</td>\n",
              "      <td>0</td>\n",
              "      <td>1.0</td>\n",
              "    </tr>\n",
              "  </tbody>\n",
              "</table>\n",
              "</div>"
            ],
            "text/plain": [
              "            X          Y  ...  Potential_Increase_In_Bed_Capac AVG_VENTILATOR_USAGE\n",
              "0 -112.066157  33.495498  ...                                0                  0.0\n",
              "1 -110.965885  32.181263  ...                                0                  2.0\n",
              "2 -119.779742  36.773323  ...                                0                  2.0\n",
              "3  -72.957610  41.284400  ...                                0                  2.0\n",
              "4  -75.606533  39.740206  ...                                0                  1.0\n",
              "\n",
              "[5 rows x 23 columns]"
            ]
          },
          "metadata": {
            "tags": []
          },
          "execution_count": 62
        }
      ]
    },
    {
      "cell_type": "code",
      "metadata": {
        "id": "8PWobR4oWCXI",
        "colab_type": "code",
        "colab": {
          "base_uri": "https://localhost:8080/",
          "height": 206
        },
        "outputId": "84986f01-520f-4df9-9dd3-25c1c257c40c"
      },
      "source": [
        "dd.head(5)"
      ],
      "execution_count": null,
      "outputs": [
        {
          "output_type": "execute_result",
          "data": {
            "text/html": [
              "<div>\n",
              "<style scoped>\n",
              "    .dataframe tbody tr th:only-of-type {\n",
              "        vertical-align: middle;\n",
              "    }\n",
              "\n",
              "    .dataframe tbody tr th {\n",
              "        vertical-align: top;\n",
              "    }\n",
              "\n",
              "    .dataframe thead th {\n",
              "        text-align: right;\n",
              "    }\n",
              "</style>\n",
              "<table border=\"1\" class=\"dataframe\">\n",
              "  <thead>\n",
              "    <tr style=\"text-align: right;\">\n",
              "      <th></th>\n",
              "      <th>date</th>\n",
              "      <th>county</th>\n",
              "      <th>state</th>\n",
              "      <th>fips</th>\n",
              "      <th>cases</th>\n",
              "      <th>deaths</th>\n",
              "    </tr>\n",
              "  </thead>\n",
              "  <tbody>\n",
              "    <tr>\n",
              "      <th>0</th>\n",
              "      <td>2020-01-21</td>\n",
              "      <td>Snohomish</td>\n",
              "      <td>Washington</td>\n",
              "      <td>53061.0</td>\n",
              "      <td>1</td>\n",
              "      <td>0</td>\n",
              "    </tr>\n",
              "    <tr>\n",
              "      <th>1</th>\n",
              "      <td>2020-01-22</td>\n",
              "      <td>Snohomish</td>\n",
              "      <td>Washington</td>\n",
              "      <td>53061.0</td>\n",
              "      <td>1</td>\n",
              "      <td>0</td>\n",
              "    </tr>\n",
              "    <tr>\n",
              "      <th>2</th>\n",
              "      <td>2020-01-23</td>\n",
              "      <td>Snohomish</td>\n",
              "      <td>Washington</td>\n",
              "      <td>53061.0</td>\n",
              "      <td>1</td>\n",
              "      <td>0</td>\n",
              "    </tr>\n",
              "    <tr>\n",
              "      <th>3</th>\n",
              "      <td>2020-01-24</td>\n",
              "      <td>Cook</td>\n",
              "      <td>Illinois</td>\n",
              "      <td>17031.0</td>\n",
              "      <td>1</td>\n",
              "      <td>0</td>\n",
              "    </tr>\n",
              "    <tr>\n",
              "      <th>4</th>\n",
              "      <td>2020-01-24</td>\n",
              "      <td>Snohomish</td>\n",
              "      <td>Washington</td>\n",
              "      <td>53061.0</td>\n",
              "      <td>1</td>\n",
              "      <td>0</td>\n",
              "    </tr>\n",
              "  </tbody>\n",
              "</table>\n",
              "</div>"
            ],
            "text/plain": [
              "         date     county       state     fips  cases  deaths\n",
              "0  2020-01-21  Snohomish  Washington  53061.0      1       0\n",
              "1  2020-01-22  Snohomish  Washington  53061.0      1       0\n",
              "2  2020-01-23  Snohomish  Washington  53061.0      1       0\n",
              "3  2020-01-24       Cook    Illinois  17031.0      1       0\n",
              "4  2020-01-24  Snohomish  Washington  53061.0      1       0"
            ]
          },
          "metadata": {
            "tags": []
          },
          "execution_count": 63
        }
      ]
    },
    {
      "cell_type": "code",
      "metadata": {
        "id": "Fz31eg-MKMtI",
        "colab_type": "code",
        "colab": {
          "base_uri": "https://localhost:8080/",
          "height": 146
        },
        "outputId": "b1c61c46-348a-4276-b1c9-f4e14467137d"
      },
      "source": [
        "df.columns"
      ],
      "execution_count": null,
      "outputs": [
        {
          "output_type": "execute_result",
          "data": {
            "text/plain": [
              "Index(['X', 'Y', 'OBJECTID', 'HOSPITAL_NAME', 'HOSPITAL_TYPE', 'HQ_ADDRESS',\n",
              "       'HQ_ADDRESS1', 'HQ_CITY', 'HQ_STATE', 'HQ_ZIP_CODE', 'COUNTY_NAME',\n",
              "       'STATE_NAME', 'STATE_FIPS', 'CNTY_FIPS', 'FIPS', 'NUM_LICENSED_BEDS',\n",
              "       'NUM_STAFFED_BEDS', 'NUM_ICU_BEDS', 'ADULT_ICU_BEDS', 'PEDI_ICU_BEDS',\n",
              "       'BED_UTILIZATION', 'Potential_Increase_In_Bed_Capac',\n",
              "       'AVG_VENTILATOR_USAGE'],\n",
              "      dtype='object')"
            ]
          },
          "metadata": {
            "tags": []
          },
          "execution_count": 64
        }
      ]
    },
    {
      "cell_type": "code",
      "metadata": {
        "id": "5wuhG3gNWHdI",
        "colab_type": "code",
        "colab": {
          "base_uri": "https://localhost:8080/",
          "height": 35
        },
        "outputId": "cf97a7f1-6c6c-45c4-d366-abc52c9602a5"
      },
      "source": [
        "dd.columns"
      ],
      "execution_count": null,
      "outputs": [
        {
          "output_type": "execute_result",
          "data": {
            "text/plain": [
              "Index(['date', 'county', 'state', 'fips', 'cases', 'deaths'], dtype='object')"
            ]
          },
          "metadata": {
            "tags": []
          },
          "execution_count": 65
        }
      ]
    },
    {
      "cell_type": "code",
      "metadata": {
        "id": "1B-inSgBXDvz",
        "colab_type": "code",
        "colab": {}
      },
      "source": [
        "df1 = df.drop(['OBJECTID','X','Y','STATE_FIPS','FIPS','CNTY_FIPS','HQ_ADDRESS','HOSPITAL_NAME','HOSPITAL_TYPE','HQ_ADDRESS1',\n",
        "               \"HQ_CITY\",\"HQ_STATE\",\"HQ_ZIP_CODE\"], axis=1)"
      ],
      "execution_count": null,
      "outputs": []
    },
    {
      "cell_type": "code",
      "metadata": {
        "id": "Xx-xpDuJXjr2",
        "colab_type": "code",
        "colab": {}
      },
      "source": [
        "dd1 = dd.drop(['date','fips'], axis = 1)"
      ],
      "execution_count": null,
      "outputs": []
    },
    {
      "cell_type": "code",
      "metadata": {
        "id": "IGnUluxzJ02-",
        "colab_type": "code",
        "colab": {
          "base_uri": "https://localhost:8080/",
          "height": 91
        },
        "outputId": "d0ffd1ee-82d2-4d77-a41d-4de8b1176805"
      },
      "source": [
        "df1.columns"
      ],
      "execution_count": null,
      "outputs": [
        {
          "output_type": "execute_result",
          "data": {
            "text/plain": [
              "Index(['COUNTY_NAME', 'STATE_NAME', 'NUM_LICENSED_BEDS', 'NUM_STAFFED_BEDS',\n",
              "       'NUM_ICU_BEDS', 'ADULT_ICU_BEDS', 'PEDI_ICU_BEDS', 'BED_UTILIZATION',\n",
              "       'Potential_Increase_In_Bed_Capac', 'AVG_VENTILATOR_USAGE'],\n",
              "      dtype='object')"
            ]
          },
          "metadata": {
            "tags": []
          },
          "execution_count": 68
        }
      ]
    },
    {
      "cell_type": "code",
      "metadata": {
        "id": "YXvyq7GwZTWP",
        "colab_type": "code",
        "colab": {
          "base_uri": "https://localhost:8080/",
          "height": 276
        },
        "outputId": "54c0788e-5a85-4afc-d3c0-49d325f8c07a"
      },
      "source": [
        "df1.describe"
      ],
      "execution_count": null,
      "outputs": [
        {
          "output_type": "execute_result",
          "data": {
            "text/plain": [
              "<bound method NDFrame.describe of      COUNTY_NAME  ... AVG_VENTILATOR_USAGE\n",
              "0       Maricopa  ...                  0.0\n",
              "1           Pima  ...                  2.0\n",
              "2         Fresno  ...                  2.0\n",
              "3      New Haven  ...                  2.0\n",
              "4     New Castle  ...                  1.0\n",
              "...          ...  ...                  ...\n",
              "6616      Travis  ...                  NaN\n",
              "6617     Henrico  ...                  NaN\n",
              "6618       Caddo  ...                  NaN\n",
              "6619     Bastrop  ...                  NaN\n",
              "6620       Berks  ...                  NaN\n",
              "\n",
              "[6621 rows x 10 columns]>"
            ]
          },
          "metadata": {
            "tags": []
          },
          "execution_count": 69
        }
      ]
    },
    {
      "cell_type": "code",
      "metadata": {
        "id": "jUdDoc8UZggw",
        "colab_type": "code",
        "colab": {
          "base_uri": "https://localhost:8080/",
          "height": 220
        },
        "outputId": "676cb7fa-985d-4e66-b865-d3c8ae969335"
      },
      "source": [
        "df1.isnull().sum()"
      ],
      "execution_count": null,
      "outputs": [
        {
          "output_type": "execute_result",
          "data": {
            "text/plain": [
              "COUNTY_NAME                         25\n",
              "STATE_NAME                          25\n",
              "NUM_LICENSED_BEDS                  148\n",
              "NUM_STAFFED_BEDS                   236\n",
              "NUM_ICU_BEDS                         0\n",
              "ADULT_ICU_BEDS                       0\n",
              "PEDI_ICU_BEDS                      737\n",
              "BED_UTILIZATION                    711\n",
              "Potential_Increase_In_Bed_Capac      0\n",
              "AVG_VENTILATOR_USAGE                75\n",
              "dtype: int64"
            ]
          },
          "metadata": {
            "tags": []
          },
          "execution_count": 70
        }
      ]
    },
    {
      "cell_type": "code",
      "metadata": {
        "id": "sUmVICf3aivB",
        "colab_type": "code",
        "colab": {
          "base_uri": "https://localhost:8080/",
          "height": 166
        },
        "outputId": "d49d6fad-579c-4df3-b3e0-d21a21c287bd"
      },
      "source": [
        "\"\"\"convert_nums = {\"HOSPITAL_TYPE\": {\"VA Hospital\": 1, \n",
        "                              \"Short Term Acute Care Hospital\": 2,\n",
        "                              \"Critical Access Hospital\": 3,\n",
        "                              \"Childrens Hospital\": 4,\n",
        "                              \"Long Term Acute Care Hospital\": 5,\n",
        "                              \"Psychiatric Hospital\": 6,\n",
        "                              \"Rehabilitation Hospital\": 7,\n",
        "                              \"Religious Non-Medical Health Care Institution\": 8,\n",
        "                              \"Department of Defense Hospital\": 9\n",
        "                              },\n",
        "                \"HQ_STATE\": {\"AZ\":1, \"CA\":2, \"CT\":3, \"DE\":4, \"DC\":5, \"FL\":6, \"ID\":7,\n",
        "                            \"LA\":8, \"MS\":9, \"MO\":10, \"NM\":11,\"NY\":12, \"ND\":13, \"OR\":14, \n",
        "                             \"PA\":15, \"AL\":16, \"AK\":17,\"ME\":18, \"MD\":19, \"MA\":20, \"AR\":21,\n",
        "                             \"RI\":22,\"SC\":23, \"WV\":24, \"CO\":25, \"GA\":26, \"HI\":27,\"IL\":28,\"IN\":29,\n",
        "                             \"IA\":30, \"KS\":31, \"KY\":32, \"MI\":33,\"MN\":34,\"MT\":35, \"NE\":36, \"NV\":37, \n",
        "                             \"NH\":38, \"NJ\":39, \"NC\":40, \"OH\":41, \"OK\":42, \"SD\":43, \"TN\":44,\"TX\":45,\"UT\":46,\n",
        "                             \"VT\":47, \"VA\":48,\"WA\":49, \"WI\":50, \"WY\":51, \"AS\":52, \"GU\":53, \"MP\":54, \"PR\":55,\"VI\":56},\n",
        "                           }\n",
        "\n",
        "#convert the columns to numbers using replace\n",
        "df_2 = df1.copy()\n",
        "df_2.replace(convert_nums, inplace=True)\n",
        "df_2.head()\"\"\""
      ],
      "execution_count": null,
      "outputs": [
        {
          "output_type": "execute_result",
          "data": {
            "application/vnd.google.colaboratory.intrinsic+json": {
              "type": "string"
            },
            "text/plain": [
              "'convert_nums = {\"HOSPITAL_TYPE\": {\"VA Hospital\": 1, \\n                              \"Short Term Acute Care Hospital\": 2,\\n                              \"Critical Access Hospital\": 3,\\n                              \"Childrens Hospital\": 4,\\n                              \"Long Term Acute Care Hospital\": 5,\\n                              \"Psychiatric Hospital\": 6,\\n                              \"Rehabilitation Hospital\": 7,\\n                              \"Religious Non-Medical Health Care Institution\": 8,\\n                              \"Department of Defense Hospital\": 9\\n                              },\\n                \"HQ_STATE\": {\"AZ\":1, \"CA\":2, \"CT\":3, \"DE\":4, \"DC\":5, \"FL\":6, \"ID\":7,\\n                            \"LA\":8, \"MS\":9, \"MO\":10, \"NM\":11,\"NY\":12, \"ND\":13, \"OR\":14, \\n                             \"PA\":15, \"AL\":16, \"AK\":17,\"ME\":18, \"MD\":19, \"MA\":20, \"AR\":21,\\n                             \"RI\":22,\"SC\":23, \"WV\":24, \"CO\":25, \"GA\":26, \"HI\":27,\"IL\":28,\"IN\":29,\\n                             \"IA\":30, \"KS\":31, \"KY\":32, \"MI\":33,\"MN\":34,\"MT\":35, \"NE\":36, \"NV\":37, \\n                             \"NH\":38, \"NJ\":39, \"NC\":40, \"OH\":41, \"OK\":42, \"SD\":43, \"TN\":44,\"TX\":45,\"UT\":46,\\n                             \"VT\":47, \"VA\":48,\"WA\":49, \"WI\":50, \"WY\":51, \"AS\":52, \"GU\":53, \"MP\":54, \"PR\":55,\"VI\":56},\\n                           }\\n\\n#convert the columns to numbers using replace\\ndf_2 = df1.copy()\\ndf_2.replace(convert_nums, inplace=True)\\ndf_2.head()'"
            ]
          },
          "metadata": {
            "tags": []
          },
          "execution_count": 16
        }
      ]
    },
    {
      "cell_type": "code",
      "metadata": {
        "id": "VuUKJ-vO__U5",
        "colab_type": "code",
        "colab": {}
      },
      "source": [
        "df2 = df1.groupby(['STATE_NAME','COUNTY_NAME']).sum()"
      ],
      "execution_count": null,
      "outputs": []
    },
    {
      "cell_type": "code",
      "metadata": {
        "id": "WjSa5QjPAiCm",
        "colab_type": "code",
        "colab": {
          "base_uri": "https://localhost:8080/",
          "height": 415
        },
        "outputId": "29800585-ca08-4dfa-c0d8-0bb1de350b45"
      },
      "source": [
        "df2.head(10)"
      ],
      "execution_count": null,
      "outputs": [
        {
          "output_type": "execute_result",
          "data": {
            "text/html": [
              "<div>\n",
              "<style scoped>\n",
              "    .dataframe tbody tr th:only-of-type {\n",
              "        vertical-align: middle;\n",
              "    }\n",
              "\n",
              "    .dataframe tbody tr th {\n",
              "        vertical-align: top;\n",
              "    }\n",
              "\n",
              "    .dataframe thead th {\n",
              "        text-align: right;\n",
              "    }\n",
              "</style>\n",
              "<table border=\"1\" class=\"dataframe\">\n",
              "  <thead>\n",
              "    <tr style=\"text-align: right;\">\n",
              "      <th></th>\n",
              "      <th></th>\n",
              "      <th>NUM_LICENSED_BEDS</th>\n",
              "      <th>NUM_STAFFED_BEDS</th>\n",
              "      <th>NUM_ICU_BEDS</th>\n",
              "      <th>ADULT_ICU_BEDS</th>\n",
              "      <th>PEDI_ICU_BEDS</th>\n",
              "      <th>BED_UTILIZATION</th>\n",
              "      <th>Potential_Increase_In_Bed_Capac</th>\n",
              "      <th>AVG_VENTILATOR_USAGE</th>\n",
              "    </tr>\n",
              "    <tr>\n",
              "      <th>STATE_NAME</th>\n",
              "      <th>COUNTY_NAME</th>\n",
              "      <th></th>\n",
              "      <th></th>\n",
              "      <th></th>\n",
              "      <th></th>\n",
              "      <th></th>\n",
              "      <th></th>\n",
              "      <th></th>\n",
              "      <th></th>\n",
              "    </tr>\n",
              "  </thead>\n",
              "  <tbody>\n",
              "    <tr>\n",
              "      <th rowspan=\"10\" valign=\"top\">Alabama</th>\n",
              "      <th>Autauga</th>\n",
              "      <td>85.0</td>\n",
              "      <td>55.0</td>\n",
              "      <td>6</td>\n",
              "      <td>6</td>\n",
              "      <td>0.0</td>\n",
              "      <td>0.623113</td>\n",
              "      <td>30</td>\n",
              "      <td>2.0</td>\n",
              "    </tr>\n",
              "    <tr>\n",
              "      <th>Baldwin</th>\n",
              "      <td>386.0</td>\n",
              "      <td>362.0</td>\n",
              "      <td>51</td>\n",
              "      <td>51</td>\n",
              "      <td>0.0</td>\n",
              "      <td>2.248812</td>\n",
              "      <td>24</td>\n",
              "      <td>8.0</td>\n",
              "    </tr>\n",
              "    <tr>\n",
              "      <th>Barbour</th>\n",
              "      <td>74.0</td>\n",
              "      <td>30.0</td>\n",
              "      <td>5</td>\n",
              "      <td>5</td>\n",
              "      <td>0.0</td>\n",
              "      <td>0.378721</td>\n",
              "      <td>44</td>\n",
              "      <td>2.0</td>\n",
              "    </tr>\n",
              "    <tr>\n",
              "      <th>Bibb</th>\n",
              "      <td>35.0</td>\n",
              "      <td>25.0</td>\n",
              "      <td>4</td>\n",
              "      <td>4</td>\n",
              "      <td>0.0</td>\n",
              "      <td>0.430904</td>\n",
              "      <td>10</td>\n",
              "      <td>1.0</td>\n",
              "    </tr>\n",
              "    <tr>\n",
              "      <th>Blount</th>\n",
              "      <td>25.0</td>\n",
              "      <td>25.0</td>\n",
              "      <td>6</td>\n",
              "      <td>6</td>\n",
              "      <td>0.0</td>\n",
              "      <td>0.499069</td>\n",
              "      <td>0</td>\n",
              "      <td>2.0</td>\n",
              "    </tr>\n",
              "    <tr>\n",
              "      <th>Bullock</th>\n",
              "      <td>61.0</td>\n",
              "      <td>30.0</td>\n",
              "      <td>5</td>\n",
              "      <td>5</td>\n",
              "      <td>0.0</td>\n",
              "      <td>0.212877</td>\n",
              "      <td>31</td>\n",
              "      <td>1.0</td>\n",
              "    </tr>\n",
              "    <tr>\n",
              "      <th>Butler</th>\n",
              "      <td>72.0</td>\n",
              "      <td>44.0</td>\n",
              "      <td>7</td>\n",
              "      <td>7</td>\n",
              "      <td>0.0</td>\n",
              "      <td>0.187111</td>\n",
              "      <td>28</td>\n",
              "      <td>2.0</td>\n",
              "    </tr>\n",
              "    <tr>\n",
              "      <th>Calhoun</th>\n",
              "      <td>486.0</td>\n",
              "      <td>435.0</td>\n",
              "      <td>30</td>\n",
              "      <td>30</td>\n",
              "      <td>0.0</td>\n",
              "      <td>1.294690</td>\n",
              "      <td>51</td>\n",
              "      <td>15.0</td>\n",
              "    </tr>\n",
              "    <tr>\n",
              "      <th>Chambers</th>\n",
              "      <td>115.0</td>\n",
              "      <td>84.0</td>\n",
              "      <td>15</td>\n",
              "      <td>15</td>\n",
              "      <td>0.0</td>\n",
              "      <td>0.398726</td>\n",
              "      <td>31</td>\n",
              "      <td>0.0</td>\n",
              "    </tr>\n",
              "    <tr>\n",
              "      <th>Cherokee</th>\n",
              "      <td>60.0</td>\n",
              "      <td>45.0</td>\n",
              "      <td>8</td>\n",
              "      <td>8</td>\n",
              "      <td>0.0</td>\n",
              "      <td>0.242532</td>\n",
              "      <td>15</td>\n",
              "      <td>1.0</td>\n",
              "    </tr>\n",
              "  </tbody>\n",
              "</table>\n",
              "</div>"
            ],
            "text/plain": [
              "                        NUM_LICENSED_BEDS  ...  AVG_VENTILATOR_USAGE\n",
              "STATE_NAME COUNTY_NAME                     ...                      \n",
              "Alabama    Autauga                   85.0  ...                   2.0\n",
              "           Baldwin                  386.0  ...                   8.0\n",
              "           Barbour                   74.0  ...                   2.0\n",
              "           Bibb                      35.0  ...                   1.0\n",
              "           Blount                    25.0  ...                   2.0\n",
              "           Bullock                   61.0  ...                   1.0\n",
              "           Butler                    72.0  ...                   2.0\n",
              "           Calhoun                  486.0  ...                  15.0\n",
              "           Chambers                 115.0  ...                   0.0\n",
              "           Cherokee                  60.0  ...                   1.0\n",
              "\n",
              "[10 rows x 8 columns]"
            ]
          },
          "metadata": {
            "tags": []
          },
          "execution_count": 72
        }
      ]
    },
    {
      "cell_type": "code",
      "metadata": {
        "id": "WK-gejuPeDUm",
        "colab_type": "code",
        "colab": {
          "base_uri": "https://localhost:8080/",
          "height": 206
        },
        "outputId": "ef25787a-90fc-4169-a11a-dcd64aaac85f"
      },
      "source": [
        "dd1.head(5)"
      ],
      "execution_count": null,
      "outputs": [
        {
          "output_type": "execute_result",
          "data": {
            "text/html": [
              "<div>\n",
              "<style scoped>\n",
              "    .dataframe tbody tr th:only-of-type {\n",
              "        vertical-align: middle;\n",
              "    }\n",
              "\n",
              "    .dataframe tbody tr th {\n",
              "        vertical-align: top;\n",
              "    }\n",
              "\n",
              "    .dataframe thead th {\n",
              "        text-align: right;\n",
              "    }\n",
              "</style>\n",
              "<table border=\"1\" class=\"dataframe\">\n",
              "  <thead>\n",
              "    <tr style=\"text-align: right;\">\n",
              "      <th></th>\n",
              "      <th>county</th>\n",
              "      <th>state</th>\n",
              "      <th>cases</th>\n",
              "      <th>deaths</th>\n",
              "    </tr>\n",
              "  </thead>\n",
              "  <tbody>\n",
              "    <tr>\n",
              "      <th>0</th>\n",
              "      <td>Snohomish</td>\n",
              "      <td>Washington</td>\n",
              "      <td>1</td>\n",
              "      <td>0</td>\n",
              "    </tr>\n",
              "    <tr>\n",
              "      <th>1</th>\n",
              "      <td>Snohomish</td>\n",
              "      <td>Washington</td>\n",
              "      <td>1</td>\n",
              "      <td>0</td>\n",
              "    </tr>\n",
              "    <tr>\n",
              "      <th>2</th>\n",
              "      <td>Snohomish</td>\n",
              "      <td>Washington</td>\n",
              "      <td>1</td>\n",
              "      <td>0</td>\n",
              "    </tr>\n",
              "    <tr>\n",
              "      <th>3</th>\n",
              "      <td>Cook</td>\n",
              "      <td>Illinois</td>\n",
              "      <td>1</td>\n",
              "      <td>0</td>\n",
              "    </tr>\n",
              "    <tr>\n",
              "      <th>4</th>\n",
              "      <td>Snohomish</td>\n",
              "      <td>Washington</td>\n",
              "      <td>1</td>\n",
              "      <td>0</td>\n",
              "    </tr>\n",
              "  </tbody>\n",
              "</table>\n",
              "</div>"
            ],
            "text/plain": [
              "      county       state  cases  deaths\n",
              "0  Snohomish  Washington      1       0\n",
              "1  Snohomish  Washington      1       0\n",
              "2  Snohomish  Washington      1       0\n",
              "3       Cook    Illinois      1       0\n",
              "4  Snohomish  Washington      1       0"
            ]
          },
          "metadata": {
            "tags": []
          },
          "execution_count": 73
        }
      ]
    },
    {
      "cell_type": "code",
      "metadata": {
        "id": "HTRrZjoRPjD5",
        "colab_type": "code",
        "colab": {}
      },
      "source": [
        "dd2  = dd1.groupby(['state','county']).sum()"
      ],
      "execution_count": null,
      "outputs": []
    },
    {
      "cell_type": "code",
      "metadata": {
        "id": "bYyR_vDt_P_s",
        "colab_type": "code",
        "colab": {
          "base_uri": "https://localhost:8080/",
          "height": 455
        },
        "outputId": "3ba9b407-8aa3-42fe-bc47-d4060d1501a3"
      },
      "source": [
        "dd2.head(100)"
      ],
      "execution_count": null,
      "outputs": [
        {
          "output_type": "execute_result",
          "data": {
            "text/html": [
              "<div>\n",
              "<style scoped>\n",
              "    .dataframe tbody tr th:only-of-type {\n",
              "        vertical-align: middle;\n",
              "    }\n",
              "\n",
              "    .dataframe tbody tr th {\n",
              "        vertical-align: top;\n",
              "    }\n",
              "\n",
              "    .dataframe thead th {\n",
              "        text-align: right;\n",
              "    }\n",
              "</style>\n",
              "<table border=\"1\" class=\"dataframe\">\n",
              "  <thead>\n",
              "    <tr style=\"text-align: right;\">\n",
              "      <th></th>\n",
              "      <th></th>\n",
              "      <th>cases</th>\n",
              "      <th>deaths</th>\n",
              "    </tr>\n",
              "    <tr>\n",
              "      <th>state</th>\n",
              "      <th>county</th>\n",
              "      <th></th>\n",
              "      <th></th>\n",
              "    </tr>\n",
              "  </thead>\n",
              "  <tbody>\n",
              "    <tr>\n",
              "      <th rowspan=\"5\" valign=\"top\">Alabama</th>\n",
              "      <th>Autauga</th>\n",
              "      <td>39785</td>\n",
              "      <td>931</td>\n",
              "    </tr>\n",
              "    <tr>\n",
              "      <th>Baldwin</th>\n",
              "      <td>77258</td>\n",
              "      <td>992</td>\n",
              "    </tr>\n",
              "    <tr>\n",
              "      <th>Barbour</th>\n",
              "      <td>24648</td>\n",
              "      <td>155</td>\n",
              "    </tr>\n",
              "    <tr>\n",
              "      <th>Bibb</th>\n",
              "      <td>13685</td>\n",
              "      <td>103</td>\n",
              "    </tr>\n",
              "    <tr>\n",
              "      <th>Blount</th>\n",
              "      <td>19359</td>\n",
              "      <td>82</td>\n",
              "    </tr>\n",
              "    <tr>\n",
              "      <th>...</th>\n",
              "      <th>...</th>\n",
              "      <td>...</td>\n",
              "      <td>...</td>\n",
              "    </tr>\n",
              "    <tr>\n",
              "      <th rowspan=\"5\" valign=\"top\">Arizona</th>\n",
              "      <th>Cochise</th>\n",
              "      <td>45600</td>\n",
              "      <td>1059</td>\n",
              "    </tr>\n",
              "    <tr>\n",
              "      <th>Coconino</th>\n",
              "      <td>156702</td>\n",
              "      <td>8541</td>\n",
              "    </tr>\n",
              "    <tr>\n",
              "      <th>Gila</th>\n",
              "      <td>20504</td>\n",
              "      <td>603</td>\n",
              "    </tr>\n",
              "    <tr>\n",
              "      <th>Graham</th>\n",
              "      <td>10559</td>\n",
              "      <td>201</td>\n",
              "    </tr>\n",
              "    <tr>\n",
              "      <th>Greenlee</th>\n",
              "      <td>1611</td>\n",
              "      <td>70</td>\n",
              "    </tr>\n",
              "  </tbody>\n",
              "</table>\n",
              "<p>100 rows × 2 columns</p>\n",
              "</div>"
            ],
            "text/plain": [
              "                   cases  deaths\n",
              "state   county                  \n",
              "Alabama Autauga    39785     931\n",
              "        Baldwin    77258     992\n",
              "        Barbour    24648     155\n",
              "        Bibb       13685     103\n",
              "        Blount     19359      82\n",
              "...                  ...     ...\n",
              "Arizona Cochise    45600    1059\n",
              "        Coconino  156702    8541\n",
              "        Gila       20504     603\n",
              "        Graham     10559     201\n",
              "        Greenlee    1611      70\n",
              "\n",
              "[100 rows x 2 columns]"
            ]
          },
          "metadata": {
            "tags": []
          },
          "execution_count": 75
        }
      ]
    },
    {
      "cell_type": "code",
      "metadata": {
        "id": "SHNUPaPg9KB_",
        "colab_type": "code",
        "colab": {}
      },
      "source": [
        "result = pd.concat([df2, dd2], axis=1)"
      ],
      "execution_count": null,
      "outputs": []
    },
    {
      "cell_type": "code",
      "metadata": {
        "id": "NKJ3uIfWyudB",
        "colab_type": "code",
        "colab": {
          "base_uri": "https://localhost:8080/",
          "height": 583
        },
        "outputId": "c08007ad-e032-4832-a7a7-6bfcb10f7c5f"
      },
      "source": [
        "result.head(100)"
      ],
      "execution_count": null,
      "outputs": [
        {
          "output_type": "execute_result",
          "data": {
            "text/html": [
              "<div>\n",
              "<style scoped>\n",
              "    .dataframe tbody tr th:only-of-type {\n",
              "        vertical-align: middle;\n",
              "    }\n",
              "\n",
              "    .dataframe tbody tr th {\n",
              "        vertical-align: top;\n",
              "    }\n",
              "\n",
              "    .dataframe thead th {\n",
              "        text-align: right;\n",
              "    }\n",
              "</style>\n",
              "<table border=\"1\" class=\"dataframe\">\n",
              "  <thead>\n",
              "    <tr style=\"text-align: right;\">\n",
              "      <th></th>\n",
              "      <th></th>\n",
              "      <th>NUM_LICENSED_BEDS</th>\n",
              "      <th>NUM_STAFFED_BEDS</th>\n",
              "      <th>NUM_ICU_BEDS</th>\n",
              "      <th>ADULT_ICU_BEDS</th>\n",
              "      <th>PEDI_ICU_BEDS</th>\n",
              "      <th>BED_UTILIZATION</th>\n",
              "      <th>Potential_Increase_In_Bed_Capac</th>\n",
              "      <th>AVG_VENTILATOR_USAGE</th>\n",
              "      <th>cases</th>\n",
              "      <th>deaths</th>\n",
              "    </tr>\n",
              "  </thead>\n",
              "  <tbody>\n",
              "    <tr>\n",
              "      <th rowspan=\"5\" valign=\"top\">Alabama</th>\n",
              "      <th>Autauga</th>\n",
              "      <td>85.0</td>\n",
              "      <td>55.0</td>\n",
              "      <td>6.0</td>\n",
              "      <td>6.0</td>\n",
              "      <td>0.0</td>\n",
              "      <td>0.623113</td>\n",
              "      <td>30.0</td>\n",
              "      <td>2.0</td>\n",
              "      <td>39785.0</td>\n",
              "      <td>931.0</td>\n",
              "    </tr>\n",
              "    <tr>\n",
              "      <th>Baldwin</th>\n",
              "      <td>386.0</td>\n",
              "      <td>362.0</td>\n",
              "      <td>51.0</td>\n",
              "      <td>51.0</td>\n",
              "      <td>0.0</td>\n",
              "      <td>2.248812</td>\n",
              "      <td>24.0</td>\n",
              "      <td>8.0</td>\n",
              "      <td>77258.0</td>\n",
              "      <td>992.0</td>\n",
              "    </tr>\n",
              "    <tr>\n",
              "      <th>Barbour</th>\n",
              "      <td>74.0</td>\n",
              "      <td>30.0</td>\n",
              "      <td>5.0</td>\n",
              "      <td>5.0</td>\n",
              "      <td>0.0</td>\n",
              "      <td>0.378721</td>\n",
              "      <td>44.0</td>\n",
              "      <td>2.0</td>\n",
              "      <td>24648.0</td>\n",
              "      <td>155.0</td>\n",
              "    </tr>\n",
              "    <tr>\n",
              "      <th>Bibb</th>\n",
              "      <td>35.0</td>\n",
              "      <td>25.0</td>\n",
              "      <td>4.0</td>\n",
              "      <td>4.0</td>\n",
              "      <td>0.0</td>\n",
              "      <td>0.430904</td>\n",
              "      <td>10.0</td>\n",
              "      <td>1.0</td>\n",
              "      <td>13685.0</td>\n",
              "      <td>103.0</td>\n",
              "    </tr>\n",
              "    <tr>\n",
              "      <th>Blount</th>\n",
              "      <td>25.0</td>\n",
              "      <td>25.0</td>\n",
              "      <td>6.0</td>\n",
              "      <td>6.0</td>\n",
              "      <td>0.0</td>\n",
              "      <td>0.499069</td>\n",
              "      <td>0.0</td>\n",
              "      <td>2.0</td>\n",
              "      <td>19359.0</td>\n",
              "      <td>82.0</td>\n",
              "    </tr>\n",
              "    <tr>\n",
              "      <th>...</th>\n",
              "      <th>...</th>\n",
              "      <td>...</td>\n",
              "      <td>...</td>\n",
              "      <td>...</td>\n",
              "      <td>...</td>\n",
              "      <td>...</td>\n",
              "      <td>...</td>\n",
              "      <td>...</td>\n",
              "      <td>...</td>\n",
              "      <td>...</td>\n",
              "      <td>...</td>\n",
              "    </tr>\n",
              "    <tr>\n",
              "      <th rowspan=\"5\" valign=\"top\">Alaska</th>\n",
              "      <th>Northwest Arctic</th>\n",
              "      <td>17.0</td>\n",
              "      <td>17.0</td>\n",
              "      <td>3.0</td>\n",
              "      <td>3.0</td>\n",
              "      <td>0.0</td>\n",
              "      <td>0.240612</td>\n",
              "      <td>0.0</td>\n",
              "      <td>0.0</td>\n",
              "      <td>NaN</td>\n",
              "      <td>NaN</td>\n",
              "    </tr>\n",
              "    <tr>\n",
              "      <th>Northwest Arctic Borough</th>\n",
              "      <td>NaN</td>\n",
              "      <td>NaN</td>\n",
              "      <td>NaN</td>\n",
              "      <td>NaN</td>\n",
              "      <td>NaN</td>\n",
              "      <td>NaN</td>\n",
              "      <td>NaN</td>\n",
              "      <td>NaN</td>\n",
              "      <td>428.0</td>\n",
              "      <td>0.0</td>\n",
              "    </tr>\n",
              "    <tr>\n",
              "      <th>Petersburg</th>\n",
              "      <td>12.0</td>\n",
              "      <td>12.0</td>\n",
              "      <td>2.0</td>\n",
              "      <td>2.0</td>\n",
              "      <td>0.0</td>\n",
              "      <td>0.268265</td>\n",
              "      <td>0.0</td>\n",
              "      <td>0.0</td>\n",
              "      <td>NaN</td>\n",
              "      <td>NaN</td>\n",
              "    </tr>\n",
              "    <tr>\n",
              "      <th>Petersburg Borough</th>\n",
              "      <td>NaN</td>\n",
              "      <td>NaN</td>\n",
              "      <td>NaN</td>\n",
              "      <td>NaN</td>\n",
              "      <td>NaN</td>\n",
              "      <td>NaN</td>\n",
              "      <td>NaN</td>\n",
              "      <td>NaN</td>\n",
              "      <td>481.0</td>\n",
              "      <td>0.0</td>\n",
              "    </tr>\n",
              "    <tr>\n",
              "      <th>Prince of Wales-Hyder Census Area</th>\n",
              "      <td>NaN</td>\n",
              "      <td>NaN</td>\n",
              "      <td>NaN</td>\n",
              "      <td>NaN</td>\n",
              "      <td>NaN</td>\n",
              "      <td>NaN</td>\n",
              "      <td>NaN</td>\n",
              "      <td>NaN</td>\n",
              "      <td>281.0</td>\n",
              "      <td>0.0</td>\n",
              "    </tr>\n",
              "  </tbody>\n",
              "</table>\n",
              "<p>100 rows × 10 columns</p>\n",
              "</div>"
            ],
            "text/plain": [
              "                                           NUM_LICENSED_BEDS  ...  deaths\n",
              "Alabama Autauga                                         85.0  ...   931.0\n",
              "        Baldwin                                        386.0  ...   992.0\n",
              "        Barbour                                         74.0  ...   155.0\n",
              "        Bibb                                            35.0  ...   103.0\n",
              "        Blount                                          25.0  ...    82.0\n",
              "...                                                      ...  ...     ...\n",
              "Alaska  Northwest Arctic                                17.0  ...     NaN\n",
              "        Northwest Arctic Borough                         NaN  ...     0.0\n",
              "        Petersburg                                      12.0  ...     NaN\n",
              "        Petersburg Borough                               NaN  ...     0.0\n",
              "        Prince of Wales-Hyder Census Area                NaN  ...     0.0\n",
              "\n",
              "[100 rows x 10 columns]"
            ]
          },
          "metadata": {
            "tags": []
          },
          "execution_count": 77
        }
      ]
    },
    {
      "cell_type": "code",
      "metadata": {
        "id": "5jGT-5pU1DT6",
        "colab_type": "code",
        "colab": {
          "base_uri": "https://localhost:8080/",
          "height": 444
        },
        "outputId": "e8e6c4b0-2cda-4cd5-a5df-b11d749821af"
      },
      "source": [
        "result.dropna()"
      ],
      "execution_count": null,
      "outputs": [
        {
          "output_type": "execute_result",
          "data": {
            "text/html": [
              "<div>\n",
              "<style scoped>\n",
              "    .dataframe tbody tr th:only-of-type {\n",
              "        vertical-align: middle;\n",
              "    }\n",
              "\n",
              "    .dataframe tbody tr th {\n",
              "        vertical-align: top;\n",
              "    }\n",
              "\n",
              "    .dataframe thead th {\n",
              "        text-align: right;\n",
              "    }\n",
              "</style>\n",
              "<table border=\"1\" class=\"dataframe\">\n",
              "  <thead>\n",
              "    <tr style=\"text-align: right;\">\n",
              "      <th></th>\n",
              "      <th></th>\n",
              "      <th>NUM_LICENSED_BEDS</th>\n",
              "      <th>NUM_STAFFED_BEDS</th>\n",
              "      <th>NUM_ICU_BEDS</th>\n",
              "      <th>ADULT_ICU_BEDS</th>\n",
              "      <th>PEDI_ICU_BEDS</th>\n",
              "      <th>BED_UTILIZATION</th>\n",
              "      <th>Potential_Increase_In_Bed_Capac</th>\n",
              "      <th>AVG_VENTILATOR_USAGE</th>\n",
              "      <th>cases</th>\n",
              "      <th>deaths</th>\n",
              "    </tr>\n",
              "  </thead>\n",
              "  <tbody>\n",
              "    <tr>\n",
              "      <th rowspan=\"5\" valign=\"top\">Alabama</th>\n",
              "      <th>Autauga</th>\n",
              "      <td>85.0</td>\n",
              "      <td>55.0</td>\n",
              "      <td>6.0</td>\n",
              "      <td>6.0</td>\n",
              "      <td>0.0</td>\n",
              "      <td>0.623113</td>\n",
              "      <td>30.0</td>\n",
              "      <td>2.0</td>\n",
              "      <td>39785.0</td>\n",
              "      <td>931.0</td>\n",
              "    </tr>\n",
              "    <tr>\n",
              "      <th>Baldwin</th>\n",
              "      <td>386.0</td>\n",
              "      <td>362.0</td>\n",
              "      <td>51.0</td>\n",
              "      <td>51.0</td>\n",
              "      <td>0.0</td>\n",
              "      <td>2.248812</td>\n",
              "      <td>24.0</td>\n",
              "      <td>8.0</td>\n",
              "      <td>77258.0</td>\n",
              "      <td>992.0</td>\n",
              "    </tr>\n",
              "    <tr>\n",
              "      <th>Barbour</th>\n",
              "      <td>74.0</td>\n",
              "      <td>30.0</td>\n",
              "      <td>5.0</td>\n",
              "      <td>5.0</td>\n",
              "      <td>0.0</td>\n",
              "      <td>0.378721</td>\n",
              "      <td>44.0</td>\n",
              "      <td>2.0</td>\n",
              "      <td>24648.0</td>\n",
              "      <td>155.0</td>\n",
              "    </tr>\n",
              "    <tr>\n",
              "      <th>Bibb</th>\n",
              "      <td>35.0</td>\n",
              "      <td>25.0</td>\n",
              "      <td>4.0</td>\n",
              "      <td>4.0</td>\n",
              "      <td>0.0</td>\n",
              "      <td>0.430904</td>\n",
              "      <td>10.0</td>\n",
              "      <td>1.0</td>\n",
              "      <td>13685.0</td>\n",
              "      <td>103.0</td>\n",
              "    </tr>\n",
              "    <tr>\n",
              "      <th>Blount</th>\n",
              "      <td>25.0</td>\n",
              "      <td>25.0</td>\n",
              "      <td>6.0</td>\n",
              "      <td>6.0</td>\n",
              "      <td>0.0</td>\n",
              "      <td>0.499069</td>\n",
              "      <td>0.0</td>\n",
              "      <td>2.0</td>\n",
              "      <td>19359.0</td>\n",
              "      <td>82.0</td>\n",
              "    </tr>\n",
              "    <tr>\n",
              "      <th>...</th>\n",
              "      <th>...</th>\n",
              "      <td>...</td>\n",
              "      <td>...</td>\n",
              "      <td>...</td>\n",
              "      <td>...</td>\n",
              "      <td>...</td>\n",
              "      <td>...</td>\n",
              "      <td>...</td>\n",
              "      <td>...</td>\n",
              "      <td>...</td>\n",
              "      <td>...</td>\n",
              "    </tr>\n",
              "    <tr>\n",
              "      <th rowspan=\"5\" valign=\"top\">Wyoming</th>\n",
              "      <th>Sweetwater</th>\n",
              "      <td>115.0</td>\n",
              "      <td>74.0</td>\n",
              "      <td>13.0</td>\n",
              "      <td>13.0</td>\n",
              "      <td>0.0</td>\n",
              "      <td>0.216816</td>\n",
              "      <td>41.0</td>\n",
              "      <td>2.0</td>\n",
              "      <td>7598.0</td>\n",
              "      <td>34.0</td>\n",
              "    </tr>\n",
              "    <tr>\n",
              "      <th>Teton</th>\n",
              "      <td>48.0</td>\n",
              "      <td>48.0</td>\n",
              "      <td>6.0</td>\n",
              "      <td>6.0</td>\n",
              "      <td>0.0</td>\n",
              "      <td>0.359132</td>\n",
              "      <td>0.0</td>\n",
              "      <td>2.0</td>\n",
              "      <td>14958.0</td>\n",
              "      <td>100.0</td>\n",
              "    </tr>\n",
              "    <tr>\n",
              "      <th>Uinta</th>\n",
              "      <td>225.0</td>\n",
              "      <td>105.0</td>\n",
              "      <td>6.0</td>\n",
              "      <td>6.0</td>\n",
              "      <td>0.0</td>\n",
              "      <td>0.826807</td>\n",
              "      <td>120.0</td>\n",
              "      <td>2.0</td>\n",
              "      <td>9787.0</td>\n",
              "      <td>4.0</td>\n",
              "    </tr>\n",
              "    <tr>\n",
              "      <th>Washakie</th>\n",
              "      <td>18.0</td>\n",
              "      <td>18.0</td>\n",
              "      <td>3.0</td>\n",
              "      <td>3.0</td>\n",
              "      <td>0.0</td>\n",
              "      <td>0.287976</td>\n",
              "      <td>0.0</td>\n",
              "      <td>2.0</td>\n",
              "      <td>3102.0</td>\n",
              "      <td>291.0</td>\n",
              "    </tr>\n",
              "    <tr>\n",
              "      <th>Weston</th>\n",
              "      <td>12.0</td>\n",
              "      <td>12.0</td>\n",
              "      <td>2.0</td>\n",
              "      <td>2.0</td>\n",
              "      <td>0.0</td>\n",
              "      <td>0.442694</td>\n",
              "      <td>0.0</td>\n",
              "      <td>0.0</td>\n",
              "      <td>130.0</td>\n",
              "      <td>0.0</td>\n",
              "    </tr>\n",
              "  </tbody>\n",
              "</table>\n",
              "<p>2435 rows × 10 columns</p>\n",
              "</div>"
            ],
            "text/plain": [
              "                    NUM_LICENSED_BEDS  NUM_STAFFED_BEDS  ...    cases  deaths\n",
              "Alabama Autauga                  85.0              55.0  ...  39785.0   931.0\n",
              "        Baldwin                 386.0             362.0  ...  77258.0   992.0\n",
              "        Barbour                  74.0              30.0  ...  24648.0   155.0\n",
              "        Bibb                     35.0              25.0  ...  13685.0   103.0\n",
              "        Blount                   25.0              25.0  ...  19359.0    82.0\n",
              "...                               ...               ...  ...      ...     ...\n",
              "Wyoming Sweetwater              115.0              74.0  ...   7598.0    34.0\n",
              "        Teton                    48.0              48.0  ...  14958.0   100.0\n",
              "        Uinta                   225.0             105.0  ...   9787.0     4.0\n",
              "        Washakie                 18.0              18.0  ...   3102.0   291.0\n",
              "        Weston                   12.0              12.0  ...    130.0     0.0\n",
              "\n",
              "[2435 rows x 10 columns]"
            ]
          },
          "metadata": {
            "tags": []
          },
          "execution_count": 78
        }
      ]
    },
    {
      "cell_type": "code",
      "metadata": {
        "id": "uTVdiv9KJxdo",
        "colab_type": "code",
        "colab": {}
      },
      "source": [
        "result.to_csv('result.csv')"
      ],
      "execution_count": null,
      "outputs": []
    },
    {
      "cell_type": "code",
      "metadata": {
        "id": "K9TSR7bUpxYR",
        "colab_type": "code",
        "colab": {}
      },
      "source": [
        "result1 = pd.read_csv('result_er.csv')"
      ],
      "execution_count": null,
      "outputs": []
    },
    {
      "cell_type": "code",
      "metadata": {
        "id": "e-wCtaTEp-b9",
        "colab_type": "code",
        "colab": {
          "base_uri": "https://localhost:8080/",
          "height": 383
        },
        "outputId": "21c48f78-6e04-44e0-81cb-9eee05bd630c"
      },
      "source": [
        "result1.head(10)"
      ],
      "execution_count": null,
      "outputs": [
        {
          "output_type": "execute_result",
          "data": {
            "text/html": [
              "<div>\n",
              "<style scoped>\n",
              "    .dataframe tbody tr th:only-of-type {\n",
              "        vertical-align: middle;\n",
              "    }\n",
              "\n",
              "    .dataframe tbody tr th {\n",
              "        vertical-align: top;\n",
              "    }\n",
              "\n",
              "    .dataframe thead th {\n",
              "        text-align: right;\n",
              "    }\n",
              "</style>\n",
              "<table border=\"1\" class=\"dataframe\">\n",
              "  <thead>\n",
              "    <tr style=\"text-align: right;\">\n",
              "      <th></th>\n",
              "      <th>NUM_LICENSED_BEDS</th>\n",
              "      <th>NUM_STAFFED_BEDS</th>\n",
              "      <th>NUM_ICU_BEDS</th>\n",
              "      <th>ADULT_ICU_BEDS</th>\n",
              "      <th>PEDI_ICU_BEDS</th>\n",
              "      <th>BED_UTILIZATION</th>\n",
              "      <th>Potential_Increase_In_Bed_Capac</th>\n",
              "      <th>AVG_VENTILATOR_USAGE</th>\n",
              "      <th>cases</th>\n",
              "      <th>deaths</th>\n",
              "    </tr>\n",
              "  </thead>\n",
              "  <tbody>\n",
              "    <tr>\n",
              "      <th>0</th>\n",
              "      <td>85.0</td>\n",
              "      <td>55.0</td>\n",
              "      <td>6.0</td>\n",
              "      <td>6.0</td>\n",
              "      <td>0.0</td>\n",
              "      <td>0.623113</td>\n",
              "      <td>30.0</td>\n",
              "      <td>2.0</td>\n",
              "      <td>12043.0</td>\n",
              "      <td>299.0</td>\n",
              "    </tr>\n",
              "    <tr>\n",
              "      <th>1</th>\n",
              "      <td>386.0</td>\n",
              "      <td>362.0</td>\n",
              "      <td>51.0</td>\n",
              "      <td>51.0</td>\n",
              "      <td>0.0</td>\n",
              "      <td>2.248812</td>\n",
              "      <td>24.0</td>\n",
              "      <td>8.0</td>\n",
              "      <td>18874.0</td>\n",
              "      <td>485.0</td>\n",
              "    </tr>\n",
              "    <tr>\n",
              "      <th>2</th>\n",
              "      <td>74.0</td>\n",
              "      <td>30.0</td>\n",
              "      <td>5.0</td>\n",
              "      <td>5.0</td>\n",
              "      <td>0.0</td>\n",
              "      <td>0.378721</td>\n",
              "      <td>44.0</td>\n",
              "      <td>2.0</td>\n",
              "      <td>8301.0</td>\n",
              "      <td>56.0</td>\n",
              "    </tr>\n",
              "    <tr>\n",
              "      <th>3</th>\n",
              "      <td>35.0</td>\n",
              "      <td>25.0</td>\n",
              "      <td>4.0</td>\n",
              "      <td>4.0</td>\n",
              "      <td>0.0</td>\n",
              "      <td>0.430904</td>\n",
              "      <td>10.0</td>\n",
              "      <td>1.0</td>\n",
              "      <td>4623.0</td>\n",
              "      <td>47.0</td>\n",
              "    </tr>\n",
              "    <tr>\n",
              "      <th>4</th>\n",
              "      <td>25.0</td>\n",
              "      <td>25.0</td>\n",
              "      <td>6.0</td>\n",
              "      <td>6.0</td>\n",
              "      <td>0.0</td>\n",
              "      <td>0.499069</td>\n",
              "      <td>0.0</td>\n",
              "      <td>2.0</td>\n",
              "      <td>4422.0</td>\n",
              "      <td>38.0</td>\n",
              "    </tr>\n",
              "    <tr>\n",
              "      <th>5</th>\n",
              "      <td>61.0</td>\n",
              "      <td>30.0</td>\n",
              "      <td>5.0</td>\n",
              "      <td>5.0</td>\n",
              "      <td>0.0</td>\n",
              "      <td>0.212877</td>\n",
              "      <td>31.0</td>\n",
              "      <td>1.0</td>\n",
              "      <td>8678.0</td>\n",
              "      <td>238.0</td>\n",
              "    </tr>\n",
              "    <tr>\n",
              "      <th>6</th>\n",
              "      <td>72.0</td>\n",
              "      <td>44.0</td>\n",
              "      <td>7.0</td>\n",
              "      <td>7.0</td>\n",
              "      <td>0.0</td>\n",
              "      <td>0.187111</td>\n",
              "      <td>28.0</td>\n",
              "      <td>2.0</td>\n",
              "      <td>19950.0</td>\n",
              "      <td>800.0</td>\n",
              "    </tr>\n",
              "    <tr>\n",
              "      <th>7</th>\n",
              "      <td>486.0</td>\n",
              "      <td>435.0</td>\n",
              "      <td>30.0</td>\n",
              "      <td>30.0</td>\n",
              "      <td>0.0</td>\n",
              "      <td>1.294690</td>\n",
              "      <td>51.0</td>\n",
              "      <td>15.0</td>\n",
              "      <td>10432.0</td>\n",
              "      <td>211.0</td>\n",
              "    </tr>\n",
              "    <tr>\n",
              "      <th>8</th>\n",
              "      <td>115.0</td>\n",
              "      <td>84.0</td>\n",
              "      <td>15.0</td>\n",
              "      <td>15.0</td>\n",
              "      <td>0.0</td>\n",
              "      <td>0.398726</td>\n",
              "      <td>31.0</td>\n",
              "      <td>0.0</td>\n",
              "      <td>26527.0</td>\n",
              "      <td>1652.0</td>\n",
              "    </tr>\n",
              "    <tr>\n",
              "      <th>9</th>\n",
              "      <td>60.0</td>\n",
              "      <td>45.0</td>\n",
              "      <td>8.0</td>\n",
              "      <td>8.0</td>\n",
              "      <td>0.0</td>\n",
              "      <td>0.242532</td>\n",
              "      <td>15.0</td>\n",
              "      <td>1.0</td>\n",
              "      <td>2228.0</td>\n",
              "      <td>128.0</td>\n",
              "    </tr>\n",
              "  </tbody>\n",
              "</table>\n",
              "</div>"
            ],
            "text/plain": [
              "   NUM_LICENSED_BEDS  NUM_STAFFED_BEDS  ...    cases  deaths\n",
              "0               85.0              55.0  ...  12043.0   299.0\n",
              "1              386.0             362.0  ...  18874.0   485.0\n",
              "2               74.0              30.0  ...   8301.0    56.0\n",
              "3               35.0              25.0  ...   4623.0    47.0\n",
              "4               25.0              25.0  ...   4422.0    38.0\n",
              "5               61.0              30.0  ...   8678.0   238.0\n",
              "6               72.0              44.0  ...  19950.0   800.0\n",
              "7              486.0             435.0  ...  10432.0   211.0\n",
              "8              115.0              84.0  ...  26527.0  1652.0\n",
              "9               60.0              45.0  ...   2228.0   128.0\n",
              "\n",
              "[10 rows x 10 columns]"
            ]
          },
          "metadata": {
            "tags": []
          },
          "execution_count": 113
        }
      ]
    },
    {
      "cell_type": "code",
      "metadata": {
        "id": "vyNaAMjUu7w2",
        "colab_type": "code",
        "colab": {
          "base_uri": "https://localhost:8080/",
          "height": 220
        },
        "outputId": "92fe289c-4130-489f-ca5f-d1dd04a5f434"
      },
      "source": [
        "result1.isnull().sum()"
      ],
      "execution_count": null,
      "outputs": [
        {
          "output_type": "execute_result",
          "data": {
            "text/plain": [
              "NUM_LICENSED_BEDS                  764\n",
              "NUM_STAFFED_BEDS                   764\n",
              "NUM_ICU_BEDS                       764\n",
              "ADULT_ICU_BEDS                     764\n",
              "PEDI_ICU_BEDS                      764\n",
              "BED_UTILIZATION                    764\n",
              "Potential_Increase_In_Bed_Capac    764\n",
              "AVG_VENTILATOR_USAGE               764\n",
              "cases                              113\n",
              "deaths                             113\n",
              "dtype: int64"
            ]
          },
          "metadata": {
            "tags": []
          },
          "execution_count": 114
        }
      ]
    },
    {
      "cell_type": "code",
      "metadata": {
        "id": "HHGnPRhqrA1B",
        "colab_type": "code",
        "colab": {}
      },
      "source": [
        "result2 = result1.replace([np.inf, -np.inf], np.nan, inplace=True)"
      ],
      "execution_count": null,
      "outputs": []
    },
    {
      "cell_type": "code",
      "metadata": {
        "id": "ZdmRAp67rywF",
        "colab_type": "code",
        "colab": {}
      },
      "source": [
        "result2 = result1.dropna()#result.fillna(, inplace=True)"
      ],
      "execution_count": null,
      "outputs": []
    },
    {
      "cell_type": "code",
      "metadata": {
        "id": "0AG_7Xx-vsba",
        "colab_type": "code",
        "colab": {
          "base_uri": "https://localhost:8080/",
          "height": 220
        },
        "outputId": "24e604d5-839a-4ea3-db1c-393babf0d54c"
      },
      "source": [
        "result2.isnull().sum()"
      ],
      "execution_count": null,
      "outputs": [
        {
          "output_type": "execute_result",
          "data": {
            "text/plain": [
              "NUM_LICENSED_BEDS                  0\n",
              "NUM_STAFFED_BEDS                   0\n",
              "NUM_ICU_BEDS                       0\n",
              "ADULT_ICU_BEDS                     0\n",
              "PEDI_ICU_BEDS                      0\n",
              "BED_UTILIZATION                    0\n",
              "Potential_Increase_In_Bed_Capac    0\n",
              "AVG_VENTILATOR_USAGE               0\n",
              "cases                              0\n",
              "deaths                             0\n",
              "dtype: int64"
            ]
          },
          "metadata": {
            "tags": []
          },
          "execution_count": 120
        }
      ]
    },
    {
      "cell_type": "code",
      "metadata": {
        "id": "fnaqOyETwYBa",
        "colab_type": "code",
        "colab": {
          "base_uri": "https://localhost:8080/",
          "height": 35
        },
        "outputId": "302fda2a-f5c8-4418-8b33-481ae05a2275"
      },
      "source": [
        "result2.shape"
      ],
      "execution_count": null,
      "outputs": [
        {
          "output_type": "execute_result",
          "data": {
            "text/plain": [
              "(2387, 10)"
            ]
          },
          "metadata": {
            "tags": []
          },
          "execution_count": 121
        }
      ]
    },
    {
      "cell_type": "code",
      "metadata": {
        "id": "DhAFrRfNzMhf",
        "colab_type": "code",
        "colab": {}
      },
      "source": [
        "#Import all needed libraries for this project\n",
        "from sklearn.decomposition import PCA\n",
        "from sklearn.model_selection import train_test_split\n",
        "from sklearn.metrics import mean_squared_error, r2_score\n",
        "from sklearn.datasets import make_regression\n",
        "from sklearn.ensemble import GradientBoostingRegressor"
      ],
      "execution_count": null,
      "outputs": []
    },
    {
      "cell_type": "code",
      "metadata": {
        "id": "CRe5trp10wdd",
        "colab_type": "code",
        "colab": {}
      },
      "source": [
        "Y = result2['BED_UTILIZATION']\n",
        "X = result2.drop(['BED_UTILIZATION'],axis=1)"
      ],
      "execution_count": null,
      "outputs": []
    },
    {
      "cell_type": "code",
      "metadata": {
        "id": "v_Fl_j570d5g",
        "colab_type": "code",
        "colab": {}
      },
      "source": [
        "# Split train and test\n",
        "X_train, X_test, Y_train, Y_test = train_test_split(X, Y, test_size = 0.3, random_state=10, shuffle=True)"
      ],
      "execution_count": null,
      "outputs": []
    },
    {
      "cell_type": "code",
      "metadata": {
        "id": "r-qN6l8P2gtO",
        "colab_type": "code",
        "colab": {}
      },
      "source": [
        "pca = PCA(n_components=5)\n",
        "X_train  = pca.fit_transform(X_train)\n",
        "X_test  = pca.fit_transform(X_test)"
      ],
      "execution_count": null,
      "outputs": []
    },
    {
      "cell_type": "code",
      "metadata": {
        "id": "1G-aSnnF1uHz",
        "colab_type": "code",
        "colab": {
          "base_uri": "https://localhost:8080/",
          "height": 350
        },
        "outputId": "53e86022-f2ad-444e-a1ff-ef793e1cd983"
      },
      "source": [
        "#Training the algorithm with the sample dataset\n",
        "estModel = GradientBoostingRegressor(n_estimators = 800, random_state = 5)\n",
        "estModel.fit(X_train, Y_train)\n",
        "#Model Score\n",
        "mScore = estModel.score(X_train,Y_train)\n",
        "\n",
        "#Prediction\n",
        "Predict_Y = estModel.predict(X_test)\n",
        "\n",
        "#Evaluating algorithm performance\n",
        "#MSE Result\n",
        "rmse = mean_squared_error(Y_test,Predict_Y)\n",
        "print('Root Mean Squared Error:, %.2f' % np.sqrt(rmse))\n",
        "#Variance score: 1 is perfect prediction score\n",
        "print('Test Variance Score: %.4f' % r2_score(Y_test, Predict_Y))\n",
        "#Variance score: 1 is perfect prediction score\n",
        "print('R^2 Prediction Score: %.4f'% mScore)\n",
        "\n",
        "#Root Mean Squared Error\n",
        "#mse = np.sqrt(np.mean((Y_test - Predict_Y)**2))\n",
        "#time.sleep(1)\n",
        "#rint('Root Mean Square Error: %.4f'%rmse)\n",
        "#Run the model against the test data presented through a plot\n",
        "fig, pX = plt.subplots()\n",
        "\n",
        "pX.scatter(Y_test, Predict_Y, edgecolors=(0, 0, 0))\n",
        "pX.plot([Y_test.min(), Y_test.max()], [Y_test.min(), Y_test.max()], 'm--', lw=3)\n",
        "pX.set_xlabel('Actual Data')\n",
        "pX.set_ylabel('Predicted Data')\n",
        "pX.set_title(\"Verified vs Predicted\")\n",
        "plt.show()"
      ],
      "execution_count": null,
      "outputs": [
        {
          "output_type": "stream",
          "text": [
            "Root Mean Squared Error:, 1.51\n",
            "Test Variance Score: 0.7669\n",
            "R^2 Prediction Score: 0.9952\n"
          ],
          "name": "stdout"
        },
        {
          "output_type": "display_data",
          "data": {
            "image/png": "[encoded data removed]",
            "text/plain": [
              "<Figure size 432x288 with 1 Axes>"
            ]
          },
          "metadata": {
            "tags": [],
            "needs_background": "light"
          }
        }
      ]
    },
    {
      "cell_type": "markdown",
      "metadata": {
        "id": "o5xPDQHh4wzI",
        "colab_type": "text"
      },
      "source": [
        "RMSE value ≥0.5 reflects the poor ability of the model to accurately predict the data.\n",
        "\n",
        "RMSE close to zero and R-Square approaching 1 are indicative of high accuracy between observed and predicted values.\n",
        "\n",
        "It depends on your research work but more then 50%, R2 value with low RMES value is acceptable to scientific research community, Results with low R2 value of 25% to 30% are valid because it represent your findings.\n"
      ]
    },
    {
      "cell_type": "markdown",
      "metadata": {
        "id": "CL26lGV-1OVs",
        "colab_type": "text"
      },
      "source": [
        "**Treating problem as a classification problem**"
      ]
    },
    {
      "cell_type": "code",
      "metadata": {
        "id": "RMb8U4vE1NSI",
        "colab_type": "code",
        "colab": {}
      },
      "source": [
        "from sklearn.datasets import make_classification\n",
        "from sklearn.ensemble import GradientBoostingClassifier"
      ],
      "execution_count": null,
      "outputs": []
    },
    {
      "cell_type": "code",
      "metadata": {
        "id": "vUGd355p2BEQ",
        "colab_type": "code",
        "colab": {
          "base_uri": "https://localhost:8080/",
          "height": 401
        },
        "outputId": "11b52c0d-614f-465c-906c-4fda3b3c9b80"
      },
      "source": [
        "clf = GradientBoostingClassifier(n_estimators = 500, learning_rate = 0.01, random_state=5)\n",
        "clf.fit(X_train, Y_train)\n",
        "\n",
        "mScore = estModel.score(X_train,Y_train)\n",
        "#Prediction\n",
        "Predict_Y1 = clf.predict(X_test)\n"
      ],
      "execution_count": null,
      "outputs": [
        {
          "output_type": "error",
          "ename": "ValueError",
          "evalue": "ignored",
          "traceback": [
            "\u001b[0;31m---------------------------------------------------------------------------\u001b[0m",
            "\u001b[0;31mValueError\u001b[0m                                Traceback (most recent call last)",
            "\u001b[0;32m<ipython-input-132-ac6d025594ea>\u001b[0m in \u001b[0;36m<module>\u001b[0;34m()\u001b[0m\n\u001b[1;32m      1\u001b[0m \u001b[0mclf\u001b[0m \u001b[0;34m=\u001b[0m \u001b[0mGradientBoostingClassifier\u001b[0m\u001b[0;34m(\u001b[0m\u001b[0mn_estimators\u001b[0m \u001b[0;34m=\u001b[0m \u001b[0;36m500\u001b[0m\u001b[0;34m,\u001b[0m \u001b[0mlearning_rate\u001b[0m \u001b[0;34m=\u001b[0m \u001b[0;36m0.01\u001b[0m\u001b[0;34m,\u001b[0m \u001b[0mrandom_state\u001b[0m\u001b[0;34m=\u001b[0m\u001b[0;36m5\u001b[0m\u001b[0;34m)\u001b[0m\u001b[0;34m\u001b[0m\u001b[0;34m\u001b[0m\u001b[0m\n\u001b[0;32m----> 2\u001b[0;31m \u001b[0mclf\u001b[0m\u001b[0;34m.\u001b[0m\u001b[0mfit\u001b[0m\u001b[0;34m(\u001b[0m\u001b[0mX_train\u001b[0m\u001b[0;34m,\u001b[0m \u001b[0mY_train\u001b[0m\u001b[0;34m)\u001b[0m\u001b[0;34m\u001b[0m\u001b[0;34m\u001b[0m\u001b[0m\n\u001b[0m\u001b[1;32m      3\u001b[0m \u001b[0;34m\u001b[0m\u001b[0m\n\u001b[1;32m      4\u001b[0m \u001b[0mmScore\u001b[0m \u001b[0;34m=\u001b[0m \u001b[0mestModel\u001b[0m\u001b[0;34m.\u001b[0m\u001b[0mscore\u001b[0m\u001b[0;34m(\u001b[0m\u001b[0mX_train\u001b[0m\u001b[0;34m,\u001b[0m\u001b[0mY_train\u001b[0m\u001b[0;34m)\u001b[0m\u001b[0;34m\u001b[0m\u001b[0;34m\u001b[0m\u001b[0m\n\u001b[1;32m      5\u001b[0m \u001b[0;31m#Prediction\u001b[0m\u001b[0;34m\u001b[0m\u001b[0;34m\u001b[0m\u001b[0;34m\u001b[0m\u001b[0m\n",
            "\u001b[0;32m/usr/local/lib/python3.6/dist-packages/sklearn/ensemble/_gb.py\u001b[0m in \u001b[0;36mfit\u001b[0;34m(self, X, y, sample_weight, monitor)\u001b[0m\n\u001b[1;32m   1453\u001b[0m         \u001b[0my\u001b[0m \u001b[0;34m=\u001b[0m \u001b[0mcheck_array\u001b[0m\u001b[0;34m(\u001b[0m\u001b[0my\u001b[0m\u001b[0;34m,\u001b[0m \u001b[0maccept_sparse\u001b[0m\u001b[0;34m=\u001b[0m\u001b[0;34m'csc'\u001b[0m\u001b[0;34m,\u001b[0m \u001b[0mensure_2d\u001b[0m\u001b[0;34m=\u001b[0m\u001b[0;32mFalse\u001b[0m\u001b[0;34m,\u001b[0m \u001b[0mdtype\u001b[0m\u001b[0;34m=\u001b[0m\u001b[0;32mNone\u001b[0m\u001b[0;34m)\u001b[0m\u001b[0;34m\u001b[0m\u001b[0;34m\u001b[0m\u001b[0m\n\u001b[1;32m   1454\u001b[0m         \u001b[0my\u001b[0m \u001b[0;34m=\u001b[0m \u001b[0mcolumn_or_1d\u001b[0m\u001b[0;34m(\u001b[0m\u001b[0my\u001b[0m\u001b[0;34m,\u001b[0m \u001b[0mwarn\u001b[0m\u001b[0;34m=\u001b[0m\u001b[0;32mTrue\u001b[0m\u001b[0;34m)\u001b[0m\u001b[0;34m\u001b[0m\u001b[0;34m\u001b[0m\u001b[0m\n\u001b[0;32m-> 1455\u001b[0;31m         \u001b[0my\u001b[0m \u001b[0;34m=\u001b[0m \u001b[0mself\u001b[0m\u001b[0;34m.\u001b[0m\u001b[0m_validate_y\u001b[0m\u001b[0;34m(\u001b[0m\u001b[0my\u001b[0m\u001b[0;34m,\u001b[0m \u001b[0msample_weight\u001b[0m\u001b[0;34m)\u001b[0m\u001b[0;34m\u001b[0m\u001b[0;34m\u001b[0m\u001b[0m\n\u001b[0m\u001b[1;32m   1456\u001b[0m \u001b[0;34m\u001b[0m\u001b[0m\n\u001b[1;32m   1457\u001b[0m         \u001b[0;32mif\u001b[0m \u001b[0mself\u001b[0m\u001b[0;34m.\u001b[0m\u001b[0mn_iter_no_change\u001b[0m \u001b[0;32mis\u001b[0m \u001b[0;32mnot\u001b[0m \u001b[0;32mNone\u001b[0m\u001b[0;34m:\u001b[0m\u001b[0;34m\u001b[0m\u001b[0;34m\u001b[0m\u001b[0m\n",
            "\u001b[0;32m/usr/local/lib/python3.6/dist-packages/sklearn/ensemble/_gb.py\u001b[0m in \u001b[0;36m_validate_y\u001b[0;34m(self, y, sample_weight)\u001b[0m\n\u001b[1;32m   2088\u001b[0m \u001b[0;34m\u001b[0m\u001b[0m\n\u001b[1;32m   2089\u001b[0m     \u001b[0;32mdef\u001b[0m \u001b[0m_validate_y\u001b[0m\u001b[0;34m(\u001b[0m\u001b[0mself\u001b[0m\u001b[0;34m,\u001b[0m \u001b[0my\u001b[0m\u001b[0;34m,\u001b[0m \u001b[0msample_weight\u001b[0m\u001b[0;34m)\u001b[0m\u001b[0;34m:\u001b[0m\u001b[0;34m\u001b[0m\u001b[0;34m\u001b[0m\u001b[0m\n\u001b[0;32m-> 2090\u001b[0;31m         \u001b[0mcheck_classification_targets\u001b[0m\u001b[0;34m(\u001b[0m\u001b[0my\u001b[0m\u001b[0;34m)\u001b[0m\u001b[0;34m\u001b[0m\u001b[0;34m\u001b[0m\u001b[0m\n\u001b[0m\u001b[1;32m   2091\u001b[0m         \u001b[0mself\u001b[0m\u001b[0;34m.\u001b[0m\u001b[0mclasses_\u001b[0m\u001b[0;34m,\u001b[0m \u001b[0my\u001b[0m \u001b[0;34m=\u001b[0m \u001b[0mnp\u001b[0m\u001b[0;34m.\u001b[0m\u001b[0munique\u001b[0m\u001b[0;34m(\u001b[0m\u001b[0my\u001b[0m\u001b[0;34m,\u001b[0m \u001b[0mreturn_inverse\u001b[0m\u001b[0;34m=\u001b[0m\u001b[0;32mTrue\u001b[0m\u001b[0;34m)\u001b[0m\u001b[0;34m\u001b[0m\u001b[0;34m\u001b[0m\u001b[0m\n\u001b[1;32m   2092\u001b[0m         \u001b[0mn_trim_classes\u001b[0m \u001b[0;34m=\u001b[0m \u001b[0mnp\u001b[0m\u001b[0;34m.\u001b[0m\u001b[0mcount_nonzero\u001b[0m\u001b[0;34m(\u001b[0m\u001b[0mnp\u001b[0m\u001b[0;34m.\u001b[0m\u001b[0mbincount\u001b[0m\u001b[0;34m(\u001b[0m\u001b[0my\u001b[0m\u001b[0;34m,\u001b[0m \u001b[0msample_weight\u001b[0m\u001b[0;34m)\u001b[0m\u001b[0;34m)\u001b[0m\u001b[0;34m\u001b[0m\u001b[0;34m\u001b[0m\u001b[0m\n",
            "\u001b[0;32m/usr/local/lib/python3.6/dist-packages/sklearn/utils/multiclass.py\u001b[0m in \u001b[0;36mcheck_classification_targets\u001b[0;34m(y)\u001b[0m\n\u001b[1;32m    167\u001b[0m     if y_type not in ['binary', 'multiclass', 'multiclass-multioutput',\n\u001b[1;32m    168\u001b[0m                       'multilabel-indicator', 'multilabel-sequences']:\n\u001b[0;32m--> 169\u001b[0;31m         \u001b[0;32mraise\u001b[0m \u001b[0mValueError\u001b[0m\u001b[0;34m(\u001b[0m\u001b[0;34m\"Unknown label type: %r\"\u001b[0m \u001b[0;34m%\u001b[0m \u001b[0my_type\u001b[0m\u001b[0;34m)\u001b[0m\u001b[0;34m\u001b[0m\u001b[0;34m\u001b[0m\u001b[0m\n\u001b[0m\u001b[1;32m    170\u001b[0m \u001b[0;34m\u001b[0m\u001b[0m\n\u001b[1;32m    171\u001b[0m \u001b[0;34m\u001b[0m\u001b[0m\n",
            "\u001b[0;31mValueError\u001b[0m: Unknown label type: 'continuous'"
          ]
        }
      ]
    },
    {
      "cell_type": "code",
      "metadata": {
        "id": "BCmee8qW3XOk",
        "colab_type": "code",
        "colab": {}
      },
      "source": [
        "#Evaluating algorithm performance\n",
        "#MSE Result\n",
        "rmse = mean_squared_error(Y_test,Predict_Y1)\n",
        "print('Root Mean Squared Error:, %.2f' % np.sqrt(rmse))\n",
        "#Variance score: 1 is perfect prediction score\n",
        "print('Test Variance Score: %.4f' % r2_score(Y_test, Predict_Y))\n",
        "#Variance score: 1 is perfect prediction score\n",
        "print('R^2 Prediction Score: %.4f'% mScore)\n",
        "\n",
        "#Root Mean Squared Error\n",
        "#mse = np.sqrt(np.mean((Y_test - Predict_Y)**2))\n",
        "#Run the model against the test data presented through a plot\n",
        "fig, pX = plt.subplots()\n",
        "\n",
        "pX.scatter(Y_test, Predict_Y1, edgecolors=(0, 0, 0))\n",
        "pX.plot([Y_test.min(), Y_test.max()], [Y_test.min(), Y_test.max()], 'm--', lw=3)\n",
        "pX.set_xlabel('Actual Data')\n",
        "pX.set_ylabel('Predicted Data')\n",
        "pX.set_title(\"Verified vs Predicted\")\n",
        "plt.show()"
      ],
      "execution_count": null,
      "outputs": []
    }
  ]
}